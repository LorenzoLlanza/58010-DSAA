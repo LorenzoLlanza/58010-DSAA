{
  "nbformat": 4,
  "nbformat_minor": 0,
  "metadata": {
    "colab": {
      "provenance": [],
      "authorship_tag": "ABX9TyPVAaWSNztB45YTuaB8Uxe0",
      "include_colab_link": true
    },
    "kernelspec": {
      "name": "python3",
      "display_name": "Python 3"
    },
    "language_info": {
      "name": "python"
    }
  },
  "cells": [
    {
      "cell_type": "markdown",
      "metadata": {
        "id": "view-in-github",
        "colab_type": "text"
      },
      "source": [
        "<a href=\"https://colab.research.google.com/github/LorenzoLlanza/58010-DSAA/blob/main/LongQuiz2.ipynb\" target=\"_parent\"><img src=\"https://colab.research.google.com/assets/colab-badge.svg\" alt=\"Open In Colab\"/></a>"
      ]
    },
    {
      "cell_type": "code",
      "execution_count": 1,
      "metadata": {
        "colab": {
          "base_uri": "https://localhost:8080/"
        },
        "id": "-syy2bm0ZF6g",
        "outputId": "de059daf-bfbc-4477-a315-a826be5070b3"
      },
      "outputs": [
        {
          "output_type": "stream",
          "name": "stdout",
          "text": [
            "[{'I', 'E'}, {'J', 'E'}, {'E', 'K'}, {'E', 'M'}, {'F', 'I'}, {'J', 'F'}, {'F', 'K'}, {'F', 'P'}, {'I', 'H'}, {'J', 'H'}, {'H', 'K'}]\n",
            "['E', 'F', 'H', 'I', 'J', 'K', 'M', 'P']\n"
          ]
        }
      ],
      "source": [
        "class graphing:\n",
        "  def __init__(self,gdictionary=None):\n",
        "    if gdictionary is None:\n",
        "      dictionary = {}\n",
        "    self.gdictionary = gdictionary\n",
        "  def edges(self):\n",
        "        return self.findedges()\n",
        "  def getVertices(self):\n",
        "    return list(self.gdictionary.keys())\n",
        "  def findedges(self):\n",
        "    edgename = []\n",
        "    for vrtx in self.gdictionary:\n",
        "      for nxtvrtx in self.gdictionary[vrtx]:\n",
        "        if {nxtvrtx, vrtx} not in edgename:\n",
        "          edgename.append({vrtx, nxtvrtx})\n",
        "    return edgename\n",
        "graph_elements = {\"E\" : [\"I\",\"J\",\"K\",\"M\"],\"F\" : [\"I\",\"J\",\"K\",\"P\"],\"H\" : [\"I\",\"J\",\"K\"],\"I\" : [\"E\",\"F\",\"H\"],\"J\" : [\"E\",\"F\",\"H\"], \"K\" : [\"E\",\"F\",\"H\"], \"M\" : [\"E\"], \"P\" : [\"F\"]}\n",
        "g = graphing(graph_elements)\n",
        "print(g.edges())\n",
        "print(g.getVertices())"
      ]
    }
  ]
}
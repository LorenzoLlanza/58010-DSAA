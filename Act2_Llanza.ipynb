{
  "nbformat": 4,
  "nbformat_minor": 0,
  "metadata": {
    "colab": {
      "provenance": [],
      "authorship_tag": "ABX9TyPLiqL3cLl3wnD5y3LLHcWf",
      "include_colab_link": true
    },
    "kernelspec": {
      "name": "python3",
      "display_name": "Python 3"
    },
    "language_info": {
      "name": "python"
    }
  },
  "cells": [
    {
      "cell_type": "markdown",
      "metadata": {
        "id": "view-in-github",
        "colab_type": "text"
      },
      "source": [
        "<a href=\"https://colab.research.google.com/github/LorenzoLlanza/58010-DSAA/blob/main/Act2_Llanza.ipynb\" target=\"_parent\"><img src=\"https://colab.research.google.com/assets/colab-badge.svg\" alt=\"Open In Colab\"/></a>"
      ]
    },
    {
      "cell_type": "code",
      "execution_count": 1,
      "metadata": {
        "colab": {
          "base_uri": "https://localhost:8080/"
        },
        "id": "sm4j7EPKzYQK",
        "outputId": "720350e3-d371-451c-96e6-dc95ac1fcf3e"
      },
      "outputs": [
        {
          "output_type": "stream",
          "name": "stdout",
          "text": [
            "Prime Numbers: [2, 3, 5, 7, 11, 13, 17, 19]\n",
            "Head: 2\n",
            "Tail: 19\n"
          ]
        }
      ],
      "source": [
        "class Node:\n",
        "    def __init__(self, data):\n",
        "        self.data = data\n",
        "        self.next = None\n",
        "\n",
        "def is_prime(num):\n",
        "    return num > 1 and all(num % i != 0 for i in range(2, int(num**0.5) + 1))\n",
        "\n",
        "def create_prime_linked_list():\n",
        "    head = tail = None\n",
        "\n",
        "    for num in range(2, 20):\n",
        "        if is_prime(num):\n",
        "            new_node = Node(num)\n",
        "            if not head:\n",
        "                head = tail = new_node\n",
        "            else:\n",
        "                tail.next = new_node\n",
        "                tail = new_node\n",
        "\n",
        "    return head, tail\n",
        "\n",
        "def display_linked_list(head, tail):\n",
        "    current = head\n",
        "    prime_numbers = []\n",
        "\n",
        "    while current:\n",
        "        prime_numbers.append(current.data)\n",
        "        current = current.next\n",
        "\n",
        "    print(\"Prime Numbers:\", prime_numbers)\n",
        "    print(\"Head:\", head.data)\n",
        "    print(\"Tail:\", tail.data)\n",
        "\n",
        "head, tail = create_prime_linked_list()\n",
        "\n",
        "display_linked_list(head, tail)"
      ]
    }
  ]
}
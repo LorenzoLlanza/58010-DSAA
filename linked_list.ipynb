{
  "nbformat": 4,
  "nbformat_minor": 0,
  "metadata": {
    "colab": {
      "provenance": [],
      "authorship_tag": "ABX9TyO0kZTd0XrNoRHSprLJhBqf",
      "include_colab_link": true
    },
    "kernelspec": {
      "name": "python3",
      "display_name": "Python 3"
    },
    "language_info": {
      "name": "python"
    }
  },
  "cells": [
    {
      "cell_type": "markdown",
      "metadata": {
        "id": "view-in-github",
        "colab_type": "text"
      },
      "source": [
        "<a href=\"https://colab.research.google.com/github/LorenzoLlanza/58010-DSAA/blob/main/linked_list.ipynb\" target=\"_parent\"><img src=\"https://colab.research.google.com/assets/colab-badge.svg\" alt=\"Open In Colab\"/></a>"
      ]
    },
    {
      "cell_type": "markdown",
      "source": [
        "#1"
      ],
      "metadata": {
        "id": "yhh6zVCyd8AF"
      }
    },
    {
      "cell_type": "code",
      "source": [
        "import array\n",
        "array.typecodes #get all typecodes\n",
        "a= array.array('i',[1,2,3,4,5,6,]) #initializing array a\n",
        "b= array.array('f',[1,5,2,5,3,4,5,5,5,6,5]) #initializing array b\n",
        "a.typecode # getting the typecode of a\n",
        "b.typecode # getting the typcode of b"
      ],
      "metadata": {
        "colab": {
          "base_uri": "https://localhost:8080/",
          "height": 35
        },
        "id": "2hJdHAbtd6Bt",
        "outputId": "0b2410e0-eed5-4fdf-cd4a-8e5035a4178b"
      },
      "execution_count": 10,
      "outputs": [
        {
          "output_type": "execute_result",
          "data": {
            "text/plain": [
              "'f'"
            ],
            "application/vnd.google.colaboratory.intrinsic+json": {
              "type": "string"
            }
          },
          "metadata": {},
          "execution_count": 10
        }
      ]
    },
    {
      "cell_type": "markdown",
      "source": [
        "#2"
      ],
      "metadata": {
        "id": "BAnKua1LeAR1"
      }
    },
    {
      "cell_type": "code",
      "source": [
        "#Node class\n",
        "class Node:\n",
        "  #fucntion to initialize the node object\n",
        "  def _init_(self,data):\n",
        "    self.data = data #Assign data\n",
        "    self.next = None #initialize next as null\n",
        "\n",
        "#linked list cclass\n",
        "class LinkedList:\n",
        "  def _init_(self):\n",
        "    self.head = None\n",
        "\n",
        "if _name__=='_main_':\n",
        "  llist = Linkedlist()\n",
        "  llist.head = Node (1)\n",
        "  second = Node (2)\n",
        "  third = Node (3)\n",
        "  llist.head.next = second;\n",
        "  second.next = third;"
      ],
      "metadata": {
        "id": "JOaF_9Y8eAbt"
      },
      "execution_count": null,
      "outputs": []
    },
    {
      "cell_type": "markdown",
      "source": [
        "#3"
      ],
      "metadata": {
        "id": "h7tuepe4eNtt"
      }
    },
    {
      "cell_type": "code",
      "source": [
        "#Node class\n",
        "class node:\n",
        "\n",
        "  #Function to initialize the node object\n",
        "  def init (self, data):\n",
        "    self.data=data # Assign data\n",
        "    self.next=None#initialize\n",
        "    #next as null\n",
        "\n",
        "#Linked list class\n",
        "class LinkedList:\n",
        "\n",
        "  #Function to initialize the linked\n",
        "  #List object\n",
        "  def init (self):\n",
        "    self.head=none"
      ],
      "metadata": {
        "id": "PZlXCxNieN4F"
      },
      "execution_count": 13,
      "outputs": []
    }
  ]
}